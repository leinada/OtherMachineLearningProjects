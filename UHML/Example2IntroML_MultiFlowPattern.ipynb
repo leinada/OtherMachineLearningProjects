{
 "cells": [
  {
   "cell_type": "markdown",
   "metadata": {},
   "source": [
    "Qauntify gas-liquid two-phase flow pattern prediction with several ML algorithms"
   ]
  },
  {
   "cell_type": "code",
   "execution_count": 6,
   "metadata": {},
   "outputs": [
    {
     "name": "stdout",
     "output_type": "stream",
     "text": [
      "(5675, 10)\n",
      "    Vsl    Vsg   VisL     VisG  DenL  DenG    ST  Ang     ID Flow Pattern\n",
      "0   6.3  0.025  0.001  0.00002  1000   1.8  0.07  0.0  0.051           DB\n",
      "1   4.0  0.040  0.001  0.00002  1000   1.8  0.07  0.0  0.051           DB\n",
      "2   6.3  0.040  0.001  0.00002  1000   1.8  0.07  0.0  0.051           DB\n",
      "3   4.0  0.063  0.001  0.00002  1000   1.8  0.07  0.0  0.051           DB\n",
      "4   6.3  0.063  0.001  0.00002  1000   1.8  0.07  0.0  0.051           DB\n",
      "5   4.0  0.100  0.001  0.00002  1000   1.8  0.07  0.0  0.051           DB\n",
      "6   6.3  0.100  0.001  0.00002  1000   1.8  0.07  0.0  0.051           DB\n",
      "7   4.0  0.160  0.001  0.00002  1000   1.8  0.07  0.0  0.051           DB\n",
      "8   6.3  0.160  0.001  0.00002  1000   1.8  0.07  0.0  0.051           DB\n",
      "9   4.0  0.400  0.001  0.00002  1000   1.8  0.07  0.0  0.051           DB\n",
      "10  6.3  0.400  0.001  0.00002  1000   1.8  0.07  0.0  0.051           DB\n",
      "11  4.0  0.630  0.001  0.00002  1000   1.8  0.07  0.0  0.051           DB\n",
      "12  6.3  0.630  0.001  0.00002  1000   1.8  0.07  0.0  0.051           DB\n",
      "13  4.0  1.000  0.001  0.00002  1000   1.8  0.07  0.0  0.051           DB\n",
      "14  6.3  1.000  0.001  0.00002  1000   1.8  0.07  0.0  0.051           DB\n",
      "15  4.0  1.600  0.001  0.00002  1000   1.8  0.07  0.0  0.051           DB\n",
      "16  6.3  1.600  0.001  0.00002  1000   1.8  0.07  0.0  0.051           DB\n",
      "17  6.3  2.500  0.001  0.00002  1000   1.8  0.07  0.0  0.051           DB\n",
      "18  6.3  4.000  0.001  0.00002  1000   1.8  0.07  0.0  0.051           DB\n",
      "19  6.3  6.300  0.001  0.00002  1000   1.8  0.07  0.0  0.051           DB\n",
      "               Vsl          Vsg          VisL          VisG    DenL  \\\n",
      "count  5675.000000  5675.000000  5.675000e+03  5.675000e+03  5675.0   \n",
      "mean      0.899747     6.222612  1.000000e-03  2.000000e-05  1000.0   \n",
      "std       1.425159     8.699644  4.055273e-17  2.361736e-18     0.0   \n",
      "min       0.001100     0.003720  1.000000e-03  2.000000e-05  1000.0   \n",
      "25%       0.016000     0.162055  1.000000e-03  2.000000e-05  1000.0   \n",
      "50%       0.250000     1.600000  1.000000e-03  2.000000e-05  1000.0   \n",
      "75%       1.500000    10.000000  1.000000e-03  2.000000e-05  1000.0   \n",
      "max      25.517000    42.956200  1.000000e-03  2.000000e-05  1000.0   \n",
      "\n",
      "               DenG            ST          Ang           ID  \n",
      "count  5.675000e+03  5.675000e+03  5675.000000  5675.000000  \n",
      "mean   1.800000e+00  7.000000e-02     2.727401     0.038657  \n",
      "std    4.108187e-14  5.690394e-15    46.202822     0.012985  \n",
      "min    1.800000e+00  7.000000e-02   -90.000000     0.025000  \n",
      "25%    1.800000e+00  7.000000e-02   -10.000000     0.025000  \n",
      "50%    1.800000e+00  7.000000e-02     0.500000     0.051000  \n",
      "75%    1.800000e+00  7.000000e-02    20.000000     0.051000  \n",
      "max    1.800000e+00  7.000000e-02    90.000000     0.051000  \n"
     ]
    }
   ],
   "source": [
    "# Import libraries\n",
    "\n",
    "# First, let’s import all of the modules, functions and objects we are going to use in this tutorial.\n",
    "\n",
    "# Load libraries\n",
    "import pandas\n",
    "import numpy\n",
    "from pandas.tools.plotting import scatter_matrix\n",
    "import matplotlib.pyplot as plt\n",
    "from sklearn import model_selection\n",
    "from sklearn.metrics import classification_report\n",
    "from sklearn.metrics import confusion_matrix\n",
    "from sklearn.metrics import accuracy_score\n",
    "from sklearn.linear_model import LogisticRegression\n",
    "from sklearn.neighbors import KNeighborsClassifier\n",
    "from sklearn.discriminant_analysis import LinearDiscriminantAnalysis\n",
    "from sklearn.svm import SVC\n",
    "from sklearn.tree import DecisionTreeClassifier        \n",
    "from sklearn.ensemble import RandomForestClassifier \n",
    "from sklearn.neural_network import MLPClassifier\n",
    "\n",
    "import warnings\n",
    "warnings.filterwarnings('ignore')\n",
    "\n",
    "# Load Dataset\n",
    "\n",
    "readdata = pandas.read_csv('BDOShohamIML.csv')\n",
    "dataset = pandas.DataFrame(readdata, columns=['Vsl', 'Vsg', 'VisL', 'VisG', 'DenL', 'DenG', 'ST', 'Ang', 'ID', 'Flow Pattern'])\n",
    "\n",
    "# Summarize the Dataset\n",
    "\n",
    "# shape\n",
    "print(dataset.shape)\n",
    "\n",
    "# head\n",
    "print(dataset.head(20))\n",
    "\n",
    "# Statistical Summary\n",
    "\n",
    "# descriptions\n",
    "print(dataset.describe())"
   ]
  },
  {
   "cell_type": "code",
   "execution_count": 7,
   "metadata": {},
   "outputs": [
    {
     "name": "stdout",
     "output_type": "stream",
     "text": [
      "Flow Pattern\n",
      "A     1033\n",
      "B      125\n",
      "DB     594\n",
      "I     2905\n",
      "SS     140\n",
      "SW     878\n",
      "dtype: int64\n"
     ]
    }
   ],
   "source": [
    "# Class Distribution\n",
    "#[Shoham 2006] attempted to summarize the main flow patterns.\n",
    "\n",
    "#Annular (A), Bubble (B), Dispersed bubble\n",
    "#(DB), Intermittent (I), Stratified smooth (SS) and Stratified wavy (SW). The Intermittent flow\n",
    "#pattern considers Slug (SL) and Churn (CH) flow pattern combined\n",
    "\n",
    "# class distribution\n",
    "print(dataset.groupby('Flow Pattern').size())"
   ]
  },
  {
   "cell_type": "code",
   "execution_count": 8,
   "metadata": {},
   "outputs": [
    {
     "name": "stdout",
     "output_type": "stream",
     "text": [
      "LR: 0.667401 (0.022311)\n",
      "LDA: 0.599119 (0.025800)\n",
      "KNN: 0.852863 (0.019273)\n",
      "DT: 0.920925 (0.009420)\n",
      "RF: 0.932819 (0.010436)\n",
      "SVM: 0.803084 (0.019030)\n",
      "MLP: 0.669604 (0.036072)\n"
     ]
    }
   ],
   "source": [
    "# Evaluate Some Algorithms\n",
    "\n",
    "# Now it is time to create some models of the data and estimate their accuracy on unseen data.\n",
    "\n",
    "# Here is what we are going to cover in this step:\n",
    "\n",
    "# Separate out a validation dataset.\n",
    "# Set-up the test harness to use 10-fold cross validation.\n",
    "# Build 5 different models to predict species from flower measurements\n",
    "# Select the best model.\n",
    "\n",
    "# Split-out validation dataset\n",
    "array = dataset.values\n",
    "X = array[:,0:9]\n",
    "Y = array[:,9]\n",
    "validation_size = 0.20\n",
    "seed = 7\n",
    "X_train, X_validation, Y_train, Y_validation = model_selection.train_test_split(X, Y, test_size=validation_size, random_state=seed)\n",
    "\n",
    "# You now have training data in the X_train and Y_train for preparing models and a X_validation and Y_validation sets that we can use later.\n",
    "\n",
    "# We will use 10-fold cross validation to estimate accuracy.\n",
    "\n",
    "# This will split our dataset into 10 parts, train on 9 and test on 1 and repeat for all combinations of train-test splits.\n",
    "\n",
    "# Test options and evaluation metric\n",
    "seed = 7\n",
    "scoring = 'accuracy'\n",
    "\n",
    "# We are using the metric of ‘accuracy‘ to evaluate models. This is a ratio of the number of correctly predicted instances in divided by the total number of instances in the dataset multiplied by 100 to give a percentage (e.g. 95% accurate). We will be using the scoring variable when we run build and evaluate each model next.\n",
    "\n",
    "# Build Models\n",
    "\n",
    "# We don’t know which algorithms would be good on this problem or what configurations to use. We get an idea from the plots that some of the classes are partially linearly separable in some dimensions, so we are expecting generally good results.\n",
    "\n",
    "# Let’s evaluate 4 different algorithms:\n",
    "\n",
    "# Logistic Regression (LR)\n",
    "# Linear Discriminant Analysis (LDA)\n",
    "# K-Nearest Neighbors (KNN).\n",
    "# Decision Tree (DT)\n",
    "# Random Forest (RF)\n",
    "# Support Vector Machines (SVM).\n",
    "# Neural Network\n",
    "\n",
    "# This is a good mixture of simple linear (LR and LDA), nonlinear (KNN and SVM) algorithms.\n",
    "\n",
    "\n",
    "# Spot Check Algorithms\n",
    "models = []\n",
    "models.append(('LR', LogisticRegression()))\n",
    "models.append(('LDA', LinearDiscriminantAnalysis()))\n",
    "models.append(('KNN', KNeighborsClassifier()))\n",
    "models.append(('DT', DecisionTreeClassifier()))\n",
    "models.append(('RF', RandomForestClassifier()))\n",
    "models.append(('SVM', SVC()))\n",
    "models.append(('MLP', MLPClassifier()))\n",
    "\n",
    "# evaluate each model in turn\n",
    "results = []\n",
    "names = []\n",
    "for name, model in models:\n",
    "    kfold = model_selection.KFold(n_splits=10, random_state=seed)\n",
    "    cv_results = model_selection.cross_val_score(model, X_train, Y_train, cv=kfold, scoring=scoring)\n",
    "    results.append(cv_results)\n",
    "    names.append(name)\n",
    "    msg = \"%s: %f (%f)\" % (name, cv_results.mean(), cv_results.std())\n",
    "    print(msg)"
   ]
  },
  {
   "cell_type": "code",
   "execution_count": 10,
   "metadata": {},
   "outputs": [
    {
     "data": {
      "image/png": "[encoded data removed]",
      "text/plain": [
       "<Figure size 432x288 with 1 Axes>"
      ]
     },
     "metadata": {},
     "output_type": "display_data"
    }
   ],
   "source": [
    "# We can also create a plot of the model evaluation results and compare the spread and the mean accuracy of each model. There is a population of accuracy measures for each algorithm because each algorithm was evaluated 10 times (10 fold cross validation).\n",
    "\n",
    "# Compare Algorithms Accuracy\n",
    "fig = plt.figure()\n",
    "fig.suptitle('Algorithm Comparison')\n",
    "ax = fig.add_subplot(111)\n",
    "plt.boxplot(results)\n",
    "ax.set_xticklabels(names)\n",
    "plt.show()"
   ]
  },
  {
   "cell_type": "markdown",
   "metadata": {},
   "source": [
    "Make Predictions\n",
    "Now we want to get an idea of the accuracy of the model on our validation set.\n",
    "\n",
    "This will give us an independent final check on the accuracy of the best model. It is valuable to keep a validation set just in case you made a slip during training, such as overfitting to the training set or a data leak. Both will result in an overly optimistic result.\n",
    "\n",
    " We can run the RF model directly on the validation set and summarize the results as a final accuracy score, a confusion matrix and a classification report.\n",
    "\n",
    " Make predictions on validation dataset"
   ]
  },
  {
   "cell_type": "code",
   "execution_count": 12,
   "metadata": {},
   "outputs": [
    {
     "name": "stdout",
     "output_type": "stream",
     "text": [
      "0.9488986784140969\n",
      "[[199   0   0   6   0  12]\n",
      " [  0  21   0   0   0   0]\n",
      " [  0   2 111   3   0   0]\n",
      " [  1   0  15 551   0   3]\n",
      " [  0   0   0   0  27   0]\n",
      " [  5   0   2   5   4 168]]\n",
      "              precision    recall  f1-score   support\n",
      "\n",
      "           A       0.97      0.92      0.94       217\n",
      "           B       0.91      1.00      0.95        21\n",
      "          DB       0.87      0.96      0.91       116\n",
      "           I       0.98      0.97      0.97       570\n",
      "          SS       0.87      1.00      0.93        27\n",
      "          SW       0.92      0.91      0.92       184\n",
      "\n",
      "   micro avg       0.95      0.95      0.95      1135\n",
      "   macro avg       0.92      0.96      0.94      1135\n",
      "weighted avg       0.95      0.95      0.95      1135\n",
      "\n"
     ]
    }
   ],
   "source": [
    "RF = RandomForestClassifier()\n",
    "RF.fit(X_train, Y_train)\n",
    "predictions = RF.predict(X_validation)\n",
    "print(accuracy_score(Y_validation, predictions))\n",
    "print(confusion_matrix(Y_validation, predictions))\n",
    "print(classification_report(Y_validation, predictions))"
   ]
  },
  {
   "cell_type": "markdown",
   "metadata": {
    "collapsed": true
   },
   "source": [
    "We can see that the accuracy is 0.93 or 93%. The confusion matrix provides an indication of the six errors made.\n",
    "Finally, the classification report provides a breakdown of each class by precision, recall, f1-score and support showing excellent results."
   ]
  },
  {
   "cell_type": "code",
   "execution_count": null,
   "metadata": {},
   "outputs": [],
   "source": []
  }
 ],
 "metadata": {
  "kernelspec": {
   "display_name": "Python 3",
   "language": "python",
   "name": "python3"
  },
  "language_info": {
   "codemirror_mode": {
    "name": "ipython",
    "version": 3
   },
   "file_extension": ".py",
   "mimetype": "text/x-python",
   "name": "python",
   "nbconvert_exporter": "python",
   "pygments_lexer": "ipython3",
   "version": "3.6.6"
  },
  "toc": {
   "base_numbering": 1,
   "nav_menu": {},
   "number_sections": true,
   "sideBar": true,
   "skip_h1_title": false,
   "title_cell": "Table of Contents",
   "title_sidebar": "Contents",
   "toc_cell": false,
   "toc_position": {},
   "toc_section_display": true,
   "toc_window_display": false
  }
 },
 "nbformat": 4,
 "nbformat_minor": 2
}
