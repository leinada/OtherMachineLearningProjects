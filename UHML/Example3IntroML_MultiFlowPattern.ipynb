{
 "cells": [
  {
   "cell_type": "code",
   "execution_count": 1,
   "metadata": {},
   "outputs": [
    {
     "name": "stdout",
     "output_type": "stream",
     "text": [
      "(5675, 10)\n",
      "    Vsl    Vsg   VisL     VisG  DenL  DenG    ST  Ang     ID Flow Pattern\n",
      "0   6.3  0.025  0.001  0.00002  1000   1.8  0.07  0.0  0.051           DB\n",
      "1   4.0  0.040  0.001  0.00002  1000   1.8  0.07  0.0  0.051           DB\n",
      "2   6.3  0.040  0.001  0.00002  1000   1.8  0.07  0.0  0.051           DB\n",
      "3   4.0  0.063  0.001  0.00002  1000   1.8  0.07  0.0  0.051           DB\n",
      "4   6.3  0.063  0.001  0.00002  1000   1.8  0.07  0.0  0.051           DB\n",
      "5   4.0  0.100  0.001  0.00002  1000   1.8  0.07  0.0  0.051           DB\n",
      "6   6.3  0.100  0.001  0.00002  1000   1.8  0.07  0.0  0.051           DB\n",
      "7   4.0  0.160  0.001  0.00002  1000   1.8  0.07  0.0  0.051           DB\n",
      "8   6.3  0.160  0.001  0.00002  1000   1.8  0.07  0.0  0.051           DB\n",
      "9   4.0  0.400  0.001  0.00002  1000   1.8  0.07  0.0  0.051           DB\n",
      "10  6.3  0.400  0.001  0.00002  1000   1.8  0.07  0.0  0.051           DB\n",
      "11  4.0  0.630  0.001  0.00002  1000   1.8  0.07  0.0  0.051           DB\n",
      "12  6.3  0.630  0.001  0.00002  1000   1.8  0.07  0.0  0.051           DB\n",
      "13  4.0  1.000  0.001  0.00002  1000   1.8  0.07  0.0  0.051           DB\n",
      "14  6.3  1.000  0.001  0.00002  1000   1.8  0.07  0.0  0.051           DB\n",
      "15  4.0  1.600  0.001  0.00002  1000   1.8  0.07  0.0  0.051           DB\n",
      "16  6.3  1.600  0.001  0.00002  1000   1.8  0.07  0.0  0.051           DB\n",
      "17  6.3  2.500  0.001  0.00002  1000   1.8  0.07  0.0  0.051           DB\n",
      "18  6.3  4.000  0.001  0.00002  1000   1.8  0.07  0.0  0.051           DB\n",
      "19  6.3  6.300  0.001  0.00002  1000   1.8  0.07  0.0  0.051           DB\n",
      "               Vsl          Vsg          VisL          VisG    DenL  \\\n",
      "count  5675.000000  5675.000000  5.675000e+03  5.675000e+03  5675.0   \n",
      "mean      0.899747     6.222612  1.000000e-03  2.000000e-05  1000.0   \n",
      "std       1.425159     8.699644  4.055273e-17  2.361736e-18     0.0   \n",
      "min       0.001100     0.003720  1.000000e-03  2.000000e-05  1000.0   \n",
      "25%       0.016000     0.162055  1.000000e-03  2.000000e-05  1000.0   \n",
      "50%       0.250000     1.600000  1.000000e-03  2.000000e-05  1000.0   \n",
      "75%       1.500000    10.000000  1.000000e-03  2.000000e-05  1000.0   \n",
      "max      25.517000    42.956200  1.000000e-03  2.000000e-05  1000.0   \n",
      "\n",
      "               DenG            ST          Ang           ID  \n",
      "count  5.675000e+03  5.675000e+03  5675.000000  5675.000000  \n",
      "mean   1.800000e+00  7.000000e-02     2.727401     0.038657  \n",
      "std    4.108187e-14  5.690394e-15    46.202822     0.012985  \n",
      "min    1.800000e+00  7.000000e-02   -90.000000     0.025000  \n",
      "25%    1.800000e+00  7.000000e-02   -10.000000     0.025000  \n",
      "50%    1.800000e+00  7.000000e-02     0.500000     0.051000  \n",
      "75%    1.800000e+00  7.000000e-02    20.000000     0.051000  \n",
      "max    1.800000e+00  7.000000e-02    90.000000     0.051000  \n",
      "Flow Pattern\n",
      "A     1033\n",
      "B      125\n",
      "DB     594\n",
      "I     2905\n",
      "SS     140\n",
      "SW     878\n",
      "dtype: int64\n"
     ]
    }
   ],
   "source": [
    "# Import libraries\n",
    "\n",
    "# First, let’s import all of the modules, functions and objects we are going to use in this tutorial.\n",
    "\n",
    "# Load libraries\n",
    "import pandas\n",
    "import numpy\n",
    "from pandas.tools.plotting import scatter_matrix\n",
    "import matplotlib.pyplot as plt\n",
    "from sklearn import model_selection\n",
    "from sklearn.metrics import classification_report\n",
    "from sklearn.metrics import confusion_matrix\n",
    "from sklearn.metrics import accuracy_score\n",
    "from sklearn.linear_model import LogisticRegression\n",
    "from sklearn.neighbors import KNeighborsClassifier\n",
    "from sklearn.discriminant_analysis import LinearDiscriminantAnalysis\n",
    "from sklearn.svm import SVC\n",
    "from sklearn.tree import DecisionTreeClassifier        \n",
    "from sklearn.ensemble import RandomForestClassifier \n",
    "from sklearn.neural_network import MLPClassifier\n",
    "import warnings\n",
    "warnings.filterwarnings('ignore')\n",
    "\n",
    "# Load Dataset\n",
    "\n",
    "readdata = pandas.read_csv('BDOShohamIML.csv')\n",
    "dataset = pandas.DataFrame(readdata, columns=['Vsl', 'Vsg', 'VisL', 'VisG', 'DenL', 'DenG', 'ST', 'Ang', 'ID', 'Flow Pattern'])\n",
    "\n",
    "# Summarize the Dataset\n",
    "\n",
    "# shape\n",
    "print(dataset.shape)\n",
    "\n",
    "# head\n",
    "print(dataset.head(20))\n",
    "\n",
    "# Statistical Summary\n",
    "\n",
    "# descriptions\n",
    "print(dataset.describe())\n",
    "\n",
    "# Class Distribution\n",
    "\n",
    "# class distribution\n",
    "print(dataset.groupby('Flow Pattern').size())"
   ]
  },
  {
   "cell_type": "code",
   "execution_count": 2,
   "metadata": {},
   "outputs": [
    {
     "data": {
      "image/png": "[encoded data removed]",
      "text/plain": [
       "<Figure size 432x288 with 1 Axes>"
      ]
     },
     "metadata": {},
     "output_type": "display_data"
    }
   ],
   "source": [
    "# Evaluate Some Algorithms\n",
    "# what we apply in this project:\n",
    "# KNN\n",
    "# Decision Tree\n",
    "# Random Forests\n",
    "# SVM\n",
    "# Neural Network\n",
    "#########################\n",
    "\n",
    "# Split-out validation dataset\n",
    "array = dataset.values\n",
    "X = array[:,0:9]\n",
    "Y = array[:,9]\n",
    "validation_size = 0.20\n",
    "seed = 7\n",
    "X_train, X_test, y_train, y_test = model_selection.train_test_split(X, Y, test_size=validation_size, random_state=seed)\n",
    "\n",
    "#----------KNN Classifier \n",
    "training_accuracy = []\n",
    "test_accuracy = []\n",
    "\n",
    "#try KNN for diffrent k nearest neighbor from 1 to 15\n",
    "neighbors_setting = range(1,15)\n",
    "\n",
    "for n_neighbors in neighbors_setting:\n",
    "    knn = KNeighborsClassifier(n_neighbors=n_neighbors)\n",
    "    knn.fit(X_train,y_train)\n",
    "    training_accuracy.append(knn.score(X_train, y_train))\n",
    "    test_accuracy.append(knn.score(X_test, y_test))\n",
    " \n",
    "plt.plot(neighbors_setting,training_accuracy, label='Accuracy of the training set')\n",
    "plt.plot(neighbors_setting,test_accuracy, label='Accuracy of the test set')\n",
    "plt.ylabel('Accuracy')\n",
    "plt.xlabel('Number of Neighbors')\n",
    "plt.legend()\n",
    "plt.show()\n",
    "#by looking at plot, best result accurs when n_neighbors is 1-4"
   ]
  },
  {
   "cell_type": "code",
   "execution_count": 3,
   "metadata": {},
   "outputs": [
    {
     "name": "stdout",
     "output_type": "stream",
     "text": [
      "Accuracy of the training set for 1NN: 0.999559\n",
      "Accuracy of the test set for 1NN: 0.874009\n"
     ]
    }
   ],
   "source": [
    "print(\"Accuracy of the training set for 1NN: {:3f}\".format(training_accuracy[0]))\n",
    "print(\"Accuracy of the test set for 1NN: {:3f}\".format(test_accuracy[0]))"
   ]
  },
  {
   "cell_type": "code",
   "execution_count": 4,
   "metadata": {},
   "outputs": [
    {
     "name": "stdout",
     "output_type": "stream",
     "text": [
      "Accuracy on the training set: 0.667\n",
      "Accuracy on the test set: 0.658\n"
     ]
    }
   ],
   "source": [
    "log_reg = LogisticRegression()\n",
    "log_reg.fit(X_train, y_train)\n",
    "\n",
    "print('Accuracy on the training set: {:.3f}'.format(log_reg.score(X_train,y_train)))\n",
    "print('Accuracy on the test set: {:.3f}'.format(log_reg.score(X_test,y_test)))"
   ]
  },
  {
   "cell_type": "code",
   "execution_count": 5,
   "metadata": {},
   "outputs": [
    {
     "data": {
      "image/png": "[encoded data removed]",
      "text/plain": [
       "<Figure size 432x288 with 1 Axes>"
      ]
     },
     "metadata": {},
     "output_type": "display_data"
    }
   ],
   "source": [
    "from sklearn.tree import DecisionTreeClassifier        #Decision Tree\n",
    "from sklearn.ensemble import RandomForestClassifier    #Random Forest\n",
    "from sklearn.neural_network import MLPClassifier\n",
    "\n",
    "training_accuracy = []\n",
    "test_accuracy = []\n",
    "\n",
    "max_dep = range(1,15)\n",
    "\n",
    "for md in max_dep:\n",
    "    tree = DecisionTreeClassifier(max_depth=md,random_state=0)\n",
    "    tree.fit(X_train,y_train)\n",
    "    training_accuracy.append(tree.score(X_train, y_train))\n",
    "    test_accuracy.append(tree.score(X_test, y_test))\n",
    " \n",
    "plt.plot(max_dep,training_accuracy, label='Accuracy of the training set')\n",
    "plt.plot(neighbors_setting,test_accuracy, label='Accuracy of the test set')\n",
    "plt.ylabel('Accuracy')\n",
    "plt.xlabel('Max Depth')\n",
    "plt.legend()\n",
    "plt.show()\n",
    "\n",
    "# by looking at plot, best result occurs when max_depth is > 4"
   ]
  },
  {
   "cell_type": "code",
   "execution_count": 6,
   "metadata": {},
   "outputs": [
    {
     "name": "stdout",
     "output_type": "stream",
     "text": [
      "acc for training data: 1.000\n",
      "acc for test data: 0.948\n"
     ]
    }
   ],
   "source": [
    "forest = RandomForestClassifier(n_estimators=100)\n",
    "forest.fit(X_train,y_train)\n",
    "\n",
    "#you can tune parameter such as:\n",
    "# - n_job (how many cores)(n_job=-1 => all cores)\n",
    "# - max_depth\n",
    "# - max_feature\n",
    "\n",
    "\n",
    "print('acc for training data: {:.3f}'.format(forest.score(X_train,y_train)))\n",
    "print('acc for test data: {:.3f}'.format(forest.score(X_test,y_test)))"
   ]
  },
  {
   "cell_type": "code",
   "execution_count": 7,
   "metadata": {},
   "outputs": [
    {
     "name": "stdout",
     "output_type": "stream",
     "text": [
      "acc for training data: 0.684\n",
      "acc for test data: 0.686\n"
     ]
    }
   ],
   "source": [
    "mlp = MLPClassifier()\n",
    "mlp.fit(X_train, y_train)\n",
    "\n",
    "print('acc for training data: {:.3f}'.format(mlp.score(X_train, y_train)))\n",
    "print('acc for test data: {:.3f}'.format(mlp.score(X_test, y_test)))"
   ]
  },
  {
   "cell_type": "code",
   "execution_count": 8,
   "metadata": {},
   "outputs": [
    {
     "name": "stdout",
     "output_type": "stream",
     "text": [
      "acc on train dataset: 0.829\n",
      "acc on test dataset: 0.809\n"
     ]
    }
   ],
   "source": [
    "from sklearn.svm import SVC \n",
    "svm= SVC()\n",
    "svm.fit(X_train, y_train)\n",
    "\n",
    "print('acc on train dataset: {:.3f}'.format(svm.score(X_train,y_train)))\n",
    "print('acc on test dataset: {:.3f}'.format(svm.score(X_test,y_test)))\n"
   ]
  },
  {
   "cell_type": "code",
   "execution_count": null,
   "metadata": {
    "collapsed": true
   },
   "outputs": [],
   "source": []
  }
 ],
 "metadata": {
  "kernelspec": {
   "display_name": "Python 3",
   "language": "python",
   "name": "python3"
  },
  "language_info": {
   "codemirror_mode": {
    "name": "ipython",
    "version": 3
   },
   "file_extension": ".py",
   "mimetype": "text/x-python",
   "name": "python",
   "nbconvert_exporter": "python",
   "pygments_lexer": "ipython3",
   "version": "3.6.6"
  },
  "toc": {
   "base_numbering": 1,
   "nav_menu": {},
   "number_sections": true,
   "sideBar": true,
   "skip_h1_title": false,
   "title_cell": "Table of Contents",
   "title_sidebar": "Contents",
   "toc_cell": false,
   "toc_position": {},
   "toc_section_display": true,
   "toc_window_display": false
  }
 },
 "nbformat": 4,
 "nbformat_minor": 2
}
