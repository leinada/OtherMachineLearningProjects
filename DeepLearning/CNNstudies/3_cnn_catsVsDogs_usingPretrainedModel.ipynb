{
 "cells": [
  {
   "cell_type": "markdown",
   "metadata": {},
   "source": [
    "## Classifying cats vs dogs via CNN, use a pretrained CNN (VGG16 model)\n",
    "\n",
    "\n",
    "\n",
    "Large convnet trained on the ImageNet dataset, contains may animal classes including dog and cat\n",
    "(1.4 million labeled images and 1,000 different classes)\n",
    "\n",
    "VGG16 image classification model is trained on above dataset\n"
   ]
  },
  {
   "cell_type": "code",
   "execution_count": 1,
   "metadata": {},
   "outputs": [
    {
     "name": "stderr",
     "output_type": "stream",
     "text": [
      "Using TensorFlow backend.\n"
     ]
    },
    {
     "data": {
      "text/plain": [
       "'2.2.2'"
      ]
     },
     "execution_count": 1,
     "metadata": {},
     "output_type": "execute_result"
    }
   ],
   "source": [
    "import keras\n",
    "keras.__version__"
   ]
  },
  {
   "cell_type": "code",
   "execution_count": 2,
   "metadata": {},
   "outputs": [],
   "source": [
    "from keras.applications import VGG16\n",
    "\n",
    "conv_base = VGG16(weights='imagenet', include_top=False, input_shape=(150, 150, 3))\n",
    "#avoid the fully connected layer from the pretrained model, since we are going to use our own \n",
    "#model on top of the base model"
   ]
  },
  {
   "cell_type": "code",
   "execution_count": 3,
   "metadata": {},
   "outputs": [
    {
     "name": "stdout",
     "output_type": "stream",
     "text": [
      "_________________________________________________________________\n",
      "Layer (type)                 Output Shape              Param #   \n",
      "=================================================================\n",
      "input_1 (InputLayer)         (None, 150, 150, 3)       0         \n",
      "_________________________________________________________________\n",
      "block1_conv1 (Conv2D)        (None, 150, 150, 64)      1792      \n",
      "_________________________________________________________________\n",
      "block1_conv2 (Conv2D)        (None, 150, 150, 64)      36928     \n",
      "_________________________________________________________________\n",
      "block1_pool (MaxPooling2D)   (None, 75, 75, 64)        0         \n",
      "_________________________________________________________________\n",
      "block2_conv1 (Conv2D)        (None, 75, 75, 128)       73856     \n",
      "_________________________________________________________________\n",
      "block2_conv2 (Conv2D)        (None, 75, 75, 128)       147584    \n",
      "_________________________________________________________________\n",
      "block2_pool (MaxPooling2D)   (None, 37, 37, 128)       0         \n",
      "_________________________________________________________________\n",
      "block3_conv1 (Conv2D)        (None, 37, 37, 256)       295168    \n",
      "_________________________________________________________________\n",
      "block3_conv2 (Conv2D)        (None, 37, 37, 256)       590080    \n",
      "_________________________________________________________________\n",
      "block3_conv3 (Conv2D)        (None, 37, 37, 256)       590080    \n",
      "_________________________________________________________________\n",
      "block3_pool (MaxPooling2D)   (None, 18, 18, 256)       0         \n",
      "_________________________________________________________________\n",
      "block4_conv1 (Conv2D)        (None, 18, 18, 512)       1180160   \n",
      "_________________________________________________________________\n",
      "block4_conv2 (Conv2D)        (None, 18, 18, 512)       2359808   \n",
      "_________________________________________________________________\n",
      "block4_conv3 (Conv2D)        (None, 18, 18, 512)       2359808   \n",
      "_________________________________________________________________\n",
      "block4_pool (MaxPooling2D)   (None, 9, 9, 512)         0         \n",
      "_________________________________________________________________\n",
      "block5_conv1 (Conv2D)        (None, 9, 9, 512)         2359808   \n",
      "_________________________________________________________________\n",
      "block5_conv2 (Conv2D)        (None, 9, 9, 512)         2359808   \n",
      "_________________________________________________________________\n",
      "block5_conv3 (Conv2D)        (None, 9, 9, 512)         2359808   \n",
      "_________________________________________________________________\n",
      "block5_pool (MaxPooling2D)   (None, 4, 4, 512)         0         \n",
      "=================================================================\n",
      "Total params: 14,714,688\n",
      "Trainable params: 14,714,688\n",
      "Non-trainable params: 0\n",
      "_________________________________________________________________\n"
     ]
    }
   ],
   "source": [
    "conv_base.summary()"
   ]
  },
  {
   "cell_type": "markdown",
   "metadata": {},
   "source": [
    "### Method 1 : FEATURE EXTRACTION WITHOUT DATA AUGMENTATION\n",
    "\n",
    "\n",
    "Run conv_base over dataset, recording its output to a numpy array, and then using this data as input to a standalone, densely connected classifier\n"
   ]
  },
  {
   "cell_type": "code",
   "execution_count": 6,
   "metadata": {},
   "outputs": [
    {
     "name": "stdout",
     "output_type": "stream",
     "text": [
      "Found 2000 images belonging to 2 classes.\n",
      "Found 1000 images belonging to 2 classes.\n",
      "Found 1000 images belonging to 2 classes.\n"
     ]
    }
   ],
   "source": [
    "import os\n",
    "import numpy as np\n",
    "from keras.preprocessing.image import ImageDataGenerator\n",
    "base_dir=\n",
    "train_dir = os.path.join(base_dir, 'train')\n",
    "validation_dir = os.path.join(base_dir, 'validation')\n",
    "test_dir = os.path.join(base_dir, 'test')\n",
    "\n",
    "datagen = ImageDataGenerator(rescale=1./255)\n",
    "batch_size = 20\n",
    "\n",
    "def extract_features(directory, sample_count):\n",
    "    features = np.zeros(shape=(sample_count, 4, 4, 512))\n",
    "    labels = np.zeros(shape=(sample_count))\n",
    "    generator = datagen.flow_from_directory(directory,target_size=(150, 150), batch_size=batch_size,class_mode='binary')\n",
    "    i = 0\n",
    "    for inputs_batch, labels_batch in generator:\n",
    "        features_batch = conv_base.predict(inputs_batch) #extract features from these images by calling the predict\n",
    "        features[i * batch_size : (i + 1) * batch_size] = features_batch\n",
    "        labels[i * batch_size : (i + 1) * batch_size] = labels_batch\n",
    "        i += 1\n",
    "        if i * batch_size >= sample_count:\n",
    "            # Note that since generators yield data indefinitely in a loop,\n",
    "            # we must `break` after every image has been seen once.\n",
    "            break\n",
    "    return features, labels\n",
    "\n",
    "train_features, train_labels = extract_features(train_dir, 2000)\n",
    "validation_features, validation_labels = extract_features(validation_dir, 1000)\n",
    "test_features, test_labels = extract_features(test_dir, 1000)"
   ]
  },
  {
   "cell_type": "markdown",
   "metadata": {},
   "source": [
    "Look at last layer of convnet;  hence the extracted features are of the size (samples, 4, 4, 512). Need to flatten this to connect to fully connected layers, ie  (samples, 4x 4x512 =8192)"
   ]
  },
  {
   "cell_type": "code",
   "execution_count": 7,
   "metadata": {},
   "outputs": [],
   "source": [
    "train_features = np.reshape(train_features, (2000, 4 * 4 * 512))\n",
    "validation_features = np.reshape(validation_features, (1000, 4 * 4 * 512))\n",
    "test_features = np.reshape(test_features, (1000, 4 * 4 * 512))"
   ]
  },
  {
   "cell_type": "code",
   "execution_count": 8,
   "metadata": {},
   "outputs": [
    {
     "name": "stdout",
     "output_type": "stream",
     "text": [
      "Train on 2000 samples, validate on 1000 samples\n",
      "Epoch 1/30\n",
      "2000/2000 [==============================] - 2s 1ms/step - loss: 0.6101 - acc: 0.6685 - val_loss: 0.4384 - val_acc: 0.8390\n",
      "Epoch 2/30\n",
      "2000/2000 [==============================] - 2s 988us/step - loss: 0.4417 - acc: 0.7855 - val_loss: 0.3597 - val_acc: 0.8710\n",
      "Epoch 3/30\n",
      "2000/2000 [==============================] - 2s 996us/step - loss: 0.3594 - acc: 0.8425 - val_loss: 0.3226 - val_acc: 0.8750\n",
      "Epoch 4/30\n",
      "2000/2000 [==============================] - 2s 985us/step - loss: 0.3225 - acc: 0.8615 - val_loss: 0.3137 - val_acc: 0.8690\n",
      "Epoch 5/30\n",
      "2000/2000 [==============================] - 2s 993us/step - loss: 0.2911 - acc: 0.8810 - val_loss: 0.2840 - val_acc: 0.8900\n",
      "Epoch 6/30\n",
      "2000/2000 [==============================] - 2s 990us/step - loss: 0.2653 - acc: 0.8925 - val_loss: 0.2709 - val_acc: 0.8970\n",
      "Epoch 7/30\n",
      "2000/2000 [==============================] - 2s 987us/step - loss: 0.2434 - acc: 0.9115 - val_loss: 0.2690 - val_acc: 0.8870\n",
      "Epoch 8/30\n",
      "2000/2000 [==============================] - 2s 996us/step - loss: 0.2331 - acc: 0.9110 - val_loss: 0.2716 - val_acc: 0.8840\n",
      "Epoch 9/30\n",
      "2000/2000 [==============================] - 2s 962us/step - loss: 0.2223 - acc: 0.9180 - val_loss: 0.2526 - val_acc: 0.8970\n",
      "Epoch 10/30\n",
      "2000/2000 [==============================] - 2s 956us/step - loss: 0.2104 - acc: 0.9155 - val_loss: 0.2504 - val_acc: 0.8990\n",
      "Epoch 11/30\n",
      "2000/2000 [==============================] - 2s 964us/step - loss: 0.1966 - acc: 0.9260 - val_loss: 0.2440 - val_acc: 0.9000\n",
      "Epoch 12/30\n",
      "2000/2000 [==============================] - 2s 957us/step - loss: 0.1901 - acc: 0.9285 - val_loss: 0.2462 - val_acc: 0.8980\n",
      "Epoch 13/30\n",
      "2000/2000 [==============================] - 2s 959us/step - loss: 0.1728 - acc: 0.9350 - val_loss: 0.2403 - val_acc: 0.8980\n",
      "Epoch 14/30\n",
      "2000/2000 [==============================] - 2s 958us/step - loss: 0.1670 - acc: 0.9400 - val_loss: 0.2428 - val_acc: 0.8980\n",
      "Epoch 15/30\n",
      "2000/2000 [==============================] - 2s 968us/step - loss: 0.1570 - acc: 0.9430 - val_loss: 0.2367 - val_acc: 0.8970\n",
      "Epoch 16/30\n",
      "2000/2000 [==============================] - 2s 971us/step - loss: 0.1512 - acc: 0.9495 - val_loss: 0.2362 - val_acc: 0.8980\n",
      "Epoch 17/30\n",
      "2000/2000 [==============================] - 2s 966us/step - loss: 0.1510 - acc: 0.9460 - val_loss: 0.2352 - val_acc: 0.8980\n",
      "Epoch 18/30\n",
      "2000/2000 [==============================] - 2s 972us/step - loss: 0.1430 - acc: 0.9505 - val_loss: 0.2371 - val_acc: 0.9000\n",
      "Epoch 19/30\n",
      "2000/2000 [==============================] - 2s 973us/step - loss: 0.1342 - acc: 0.9575 - val_loss: 0.2355 - val_acc: 0.9010\n",
      "Epoch 20/30\n",
      "2000/2000 [==============================] - 2s 971us/step - loss: 0.1287 - acc: 0.9555 - val_loss: 0.2336 - val_acc: 0.9000\n",
      "Epoch 21/30\n",
      "2000/2000 [==============================] - 2s 977us/step - loss: 0.1237 - acc: 0.9570 - val_loss: 0.2328 - val_acc: 0.8990\n",
      "Epoch 22/30\n",
      "2000/2000 [==============================] - 2s 961us/step - loss: 0.1217 - acc: 0.9590 - val_loss: 0.2349 - val_acc: 0.9030\n",
      "Epoch 23/30\n",
      "2000/2000 [==============================] - 2s 968us/step - loss: 0.1186 - acc: 0.9620 - val_loss: 0.2388 - val_acc: 0.9010\n",
      "Epoch 24/30\n",
      "2000/2000 [==============================] - 2s 963us/step - loss: 0.1121 - acc: 0.9625 - val_loss: 0.2319 - val_acc: 0.8990\n",
      "Epoch 25/30\n",
      "2000/2000 [==============================] - 2s 967us/step - loss: 0.1089 - acc: 0.9635 - val_loss: 0.2405 - val_acc: 0.9020\n",
      "Epoch 26/30\n",
      "2000/2000 [==============================] - 2s 966us/step - loss: 0.1030 - acc: 0.9650 - val_loss: 0.2369 - val_acc: 0.9000\n",
      "Epoch 27/30\n",
      "2000/2000 [==============================] - 2s 967us/step - loss: 0.0990 - acc: 0.9685 - val_loss: 0.2387 - val_acc: 0.9000\n",
      "Epoch 28/30\n",
      "2000/2000 [==============================] - 2s 970us/step - loss: 0.0962 - acc: 0.9710 - val_loss: 0.2354 - val_acc: 0.8970\n",
      "Epoch 29/30\n",
      "2000/2000 [==============================] - 2s 968us/step - loss: 0.0940 - acc: 0.9695 - val_loss: 0.2352 - val_acc: 0.8990\n",
      "Epoch 30/30\n",
      "2000/2000 [==============================] - 2s 954us/step - loss: 0.0935 - acc: 0.9745 - val_loss: 0.2352 - val_acc: 0.8980\n"
     ]
    }
   ],
   "source": [
    "##now connect the extracted features to fully connected layers\n",
    "from keras import models\n",
    "from keras import layers\n",
    "from keras import optimizers\n",
    "\n",
    "model = models.Sequential()\n",
    "model.add(layers.Dense(256, activation='relu', input_dim=4 * 4 * 512))\n",
    "model.add(layers.Dropout(0.5))\n",
    "model.add(layers.Dense(1, activation='sigmoid'))\n",
    "\n",
    "model.compile(optimizer=optimizers.RMSprop(lr=2e-5), loss='binary_crossentropy', metrics=['acc'])\n",
    "history = model.fit(train_features, train_labels, epochs=30,batch_size=20,\n",
    "                    validation_data=(validation_features, validation_labels))"
   ]
  },
  {
   "cell_type": "code",
   "execution_count": 12,
   "metadata": {},
   "outputs": [
    {
     "data": {
      "image/png": "[encoded data removed]",
      "text/plain": [
       "<Figure size 432x288 with 1 Axes>"
      ]
     },
     "metadata": {},
     "output_type": "display_data"
    },
    {
     "data": {
      "image/png": "[encoded data removed]",
      "text/plain": [
       "<Figure size 432x288 with 1 Axes>"
      ]
     },
     "metadata": {},
     "output_type": "display_data"
    }
   ],
   "source": [
    "import matplotlib.pyplot as plt\n",
    "\n",
    "acc = history.history['acc']\n",
    "val_acc = history.history['val_acc']\n",
    "loss = history.history['loss']\n",
    "val_loss = history.history['val_loss']\n",
    "\n",
    "epochs = range(len(acc))\n",
    "\n",
    "plt.plot(epochs, acc, 'bo', label='Training acc')\n",
    "plt.plot(epochs, val_acc, 'b', label='Validation acc')\n",
    "plt.title('Training and validation accuracy')\n",
    "plt.grid()\n",
    "plt.legend()\n",
    "\n",
    "plt.figure()\n",
    "\n",
    "plt.plot(epochs, loss, 'bo', label='Training loss')\n",
    "plt.plot(epochs, val_loss, 'b', label='Validation loss')\n",
    "plt.title('Training and validation loss')\n",
    "plt.legend()\n",
    "plt.grid()\n",
    "plt.show()"
   ]
  },
  {
   "cell_type": "markdown",
   "metadata": {},
   "source": [
    "validation accuracy reaches about 90%. However, the plots also indicate that we are overfitting despite using dropout\n",
    "with a fairly large rate. We have to use data augmentation, which is essential to preventing overfitting with small image datasets."
   ]
  },
  {
   "cell_type": "markdown",
   "metadata": {},
   "source": [
    "### Method 2 : FEATURE EXTRACTION WITH DATA AUGMENTATION\n",
    "\n",
    "much slower, computationally expensive\n",
    "\n",
    "we train the model end to end with a frozen convolutional base\n",
    "    "
   ]
  },
  {
   "cell_type": "code",
   "execution_count": null,
   "metadata": {},
   "outputs": [],
   "source": []
  }
 ],
 "metadata": {
  "kernelspec": {
   "display_name": "Python 3",
   "language": "python",
   "name": "python3"
  },
  "language_info": {
   "codemirror_mode": {
    "name": "ipython",
    "version": 3
   },
   "file_extension": ".py",
   "mimetype": "text/x-python",
   "name": "python",
   "nbconvert_exporter": "python",
   "pygments_lexer": "ipython3",
   "version": "3.6.6"
  },
  "latex_envs": {
   "LaTeX_envs_menu_present": true,
   "autoclose": false,
   "autocomplete": true,
   "bibliofile": "biblio.bib",
   "cite_by": "apalike",
   "current_citInitial": 1,
   "eqLabelWithNumbers": true,
   "eqNumInitial": 1,
   "hotkeys": {
    "equation": "Ctrl-E",
    "itemize": "Ctrl-I"
   },
   "labels_anchors": false,
   "latex_user_defs": false,
   "report_style_numbering": false,
   "user_envs_cfg": false
  },
  "toc": {
   "base_numbering": 1,
   "nav_menu": {},
   "number_sections": true,
   "sideBar": true,
   "skip_h1_title": false,
   "title_cell": "Table of Contents",
   "title_sidebar": "Contents",
   "toc_cell": false,
   "toc_position": {},
   "toc_section_display": true,
   "toc_window_display": false
  }
 },
 "nbformat": 4,
 "nbformat_minor": 2
}
